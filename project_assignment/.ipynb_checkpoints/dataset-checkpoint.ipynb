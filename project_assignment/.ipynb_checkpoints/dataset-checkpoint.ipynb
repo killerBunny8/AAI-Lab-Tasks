{
 "cells": [
  {
   "cell_type": "markdown",
   "id": "ab9792a8-c4d0-4220-90d6-430522c586dc",
   "metadata": {},
   "source": [
    "# Car \n",
    "## Cow buyable is a car based on its features?\n",
    "\n",
    "### By tbd\n",
    "dataset: \n",
    "https://www.kaggle.com/datasets/stealthtechnologies/car-evaluation-classification\n"
   ]
  },
  {
   "cell_type": "code",
   "execution_count": 5,
   "id": "5cf68ee3-e37f-4e00-b1b9-facfc4dc7de9",
   "metadata": {},
   "outputs": [
    {
     "data": {
      "text/html": [
       "<div>\n",
       "<style scoped>\n",
       "    .dataframe tbody tr th:only-of-type {\n",
       "        vertical-align: middle;\n",
       "    }\n",
       "\n",
       "    .dataframe tbody tr th {\n",
       "        vertical-align: top;\n",
       "    }\n",
       "\n",
       "    .dataframe thead th {\n",
       "        text-align: right;\n",
       "    }\n",
       "</style>\n",
       "<table border=\"1\" class=\"dataframe\">\n",
       "  <thead>\n",
       "    <tr style=\"text-align: right;\">\n",
       "      <th></th>\n",
       "      <th>Buying</th>\n",
       "      <th>Maintenance</th>\n",
       "      <th>Doors</th>\n",
       "      <th>Seats</th>\n",
       "      <th>Boot</th>\n",
       "      <th>Safety</th>\n",
       "      <th>Condition</th>\n",
       "    </tr>\n",
       "  </thead>\n",
       "  <tbody>\n",
       "    <tr>\n",
       "      <th>0</th>\n",
       "      <td>vhigh</td>\n",
       "      <td>vhigh</td>\n",
       "      <td>2</td>\n",
       "      <td>2</td>\n",
       "      <td>small</td>\n",
       "      <td>low</td>\n",
       "      <td>unacc</td>\n",
       "    </tr>\n",
       "    <tr>\n",
       "      <th>1</th>\n",
       "      <td>vhigh</td>\n",
       "      <td>vhigh</td>\n",
       "      <td>2</td>\n",
       "      <td>2</td>\n",
       "      <td>small</td>\n",
       "      <td>med</td>\n",
       "      <td>unacc</td>\n",
       "    </tr>\n",
       "    <tr>\n",
       "      <th>2</th>\n",
       "      <td>vhigh</td>\n",
       "      <td>vhigh</td>\n",
       "      <td>2</td>\n",
       "      <td>2</td>\n",
       "      <td>small</td>\n",
       "      <td>high</td>\n",
       "      <td>unacc</td>\n",
       "    </tr>\n",
       "    <tr>\n",
       "      <th>3</th>\n",
       "      <td>vhigh</td>\n",
       "      <td>vhigh</td>\n",
       "      <td>2</td>\n",
       "      <td>2</td>\n",
       "      <td>med</td>\n",
       "      <td>low</td>\n",
       "      <td>unacc</td>\n",
       "    </tr>\n",
       "    <tr>\n",
       "      <th>4</th>\n",
       "      <td>vhigh</td>\n",
       "      <td>vhigh</td>\n",
       "      <td>2</td>\n",
       "      <td>2</td>\n",
       "      <td>med</td>\n",
       "      <td>med</td>\n",
       "      <td>unacc</td>\n",
       "    </tr>\n",
       "    <tr>\n",
       "      <th>5</th>\n",
       "      <td>vhigh</td>\n",
       "      <td>vhigh</td>\n",
       "      <td>2</td>\n",
       "      <td>2</td>\n",
       "      <td>med</td>\n",
       "      <td>high</td>\n",
       "      <td>unacc</td>\n",
       "    </tr>\n",
       "    <tr>\n",
       "      <th>6</th>\n",
       "      <td>vhigh</td>\n",
       "      <td>vhigh</td>\n",
       "      <td>2</td>\n",
       "      <td>2</td>\n",
       "      <td>big</td>\n",
       "      <td>low</td>\n",
       "      <td>unacc</td>\n",
       "    </tr>\n",
       "    <tr>\n",
       "      <th>7</th>\n",
       "      <td>vhigh</td>\n",
       "      <td>vhigh</td>\n",
       "      <td>2</td>\n",
       "      <td>2</td>\n",
       "      <td>big</td>\n",
       "      <td>med</td>\n",
       "      <td>unacc</td>\n",
       "    </tr>\n",
       "    <tr>\n",
       "      <th>8</th>\n",
       "      <td>vhigh</td>\n",
       "      <td>vhigh</td>\n",
       "      <td>2</td>\n",
       "      <td>2</td>\n",
       "      <td>big</td>\n",
       "      <td>high</td>\n",
       "      <td>unacc</td>\n",
       "    </tr>\n",
       "    <tr>\n",
       "      <th>9</th>\n",
       "      <td>vhigh</td>\n",
       "      <td>vhigh</td>\n",
       "      <td>2</td>\n",
       "      <td>4</td>\n",
       "      <td>small</td>\n",
       "      <td>low</td>\n",
       "      <td>unacc</td>\n",
       "    </tr>\n",
       "  </tbody>\n",
       "</table>\n",
       "</div>"
      ],
      "text/plain": [
       "  Buying Maintenance Doors Seats   Boot Safety Condition\n",
       "0  vhigh       vhigh     2     2  small    low     unacc\n",
       "1  vhigh       vhigh     2     2  small    med     unacc\n",
       "2  vhigh       vhigh     2     2  small   high     unacc\n",
       "3  vhigh       vhigh     2     2    med    low     unacc\n",
       "4  vhigh       vhigh     2     2    med    med     unacc\n",
       "5  vhigh       vhigh     2     2    med   high     unacc\n",
       "6  vhigh       vhigh     2     2    big    low     unacc\n",
       "7  vhigh       vhigh     2     2    big    med     unacc\n",
       "8  vhigh       vhigh     2     2    big   high     unacc\n",
       "9  vhigh       vhigh     2     4  small    low     unacc"
      ]
     },
     "execution_count": 5,
     "metadata": {},
     "output_type": "execute_result"
    }
   ],
   "source": [
    "import numpy as np\n",
    "import pandas as pd\n",
    "from pandas import Series, DataFrame\n",
    "address = \"cars.csv\"\n",
    "cars = pd.read_csv(address)\n",
    "cars.columns = [\"Buying\", \"Maintenance\", \"Doors\",\"Seats\", \"Boot\",\"Safety\",\"Condition\"]\n",
    "cars.head(10)"
   ]
  },
  {
   "cell_type": "markdown",
   "id": "facd0aa7-41e0-4529-ac0c-e928730d7f50",
   "metadata": {},
   "source": [
    "## standardise data"
   ]
  },
  {
   "cell_type": "code",
   "execution_count": 11,
   "id": "ed85e4eb-c60e-42dc-a84b-15008ea1278f",
   "metadata": {},
   "outputs": [
    {
     "name": "stdout",
     "output_type": "stream",
     "text": [
      "(1728, 7)\n"
     ]
    }
   ],
   "source": [
    "print(cars.shape)"
   ]
  },
  {
   "cell_type": "code",
   "execution_count": 13,
   "id": "2f25b0f4-8b74-4569-ac03-9c85e34f864d",
   "metadata": {},
   "outputs": [
    {
     "name": "stdout",
     "output_type": "stream",
     "text": [
      "Buying         object\n",
      "Maintenance    object\n",
      "Doors          object\n",
      "Seats          object\n",
      "Boot           object\n",
      "Safety         object\n",
      "Condition      object\n",
      "dtype: object\n"
     ]
    }
   ],
   "source": [
    "print(cars.dtypes)\n"
   ]
  },
  {
   "cell_type": "code",
   "execution_count": 14,
   "id": "8ba617d5-67b9-45fc-94b7-cfdb584da717",
   "metadata": {},
   "outputs": [
    {
     "name": "stdout",
     "output_type": "stream",
     "text": [
      "<bound method NDFrame.describe of      Buying Maintenance  Doors Seats   Boot Safety Condition\n",
      "0     vhigh       vhigh      2     2  small    low     unacc\n",
      "1     vhigh       vhigh      2     2  small    med     unacc\n",
      "2     vhigh       vhigh      2     2  small   high     unacc\n",
      "3     vhigh       vhigh      2     2    med    low     unacc\n",
      "4     vhigh       vhigh      2     2    med    med     unacc\n",
      "...     ...         ...    ...   ...    ...    ...       ...\n",
      "1723    low         low  5more  more    med    med      good\n",
      "1724    low         low  5more  more    med   high     vgood\n",
      "1725    low         low  5more  more    big    low     unacc\n",
      "1726    low         low  5more  more    big    med      good\n",
      "1727    low         low  5more  more    big   high     vgood\n",
      "\n",
      "[1728 rows x 7 columns]>\n"
     ]
    }
   ],
   "source": [
    "print(cars.describe)\n"
   ]
  },
  {
   "cell_type": "code",
   "execution_count": 16,
   "id": "c711df5a-ad28-4b2a-9a3b-0079a5d19193",
   "metadata": {},
   "outputs": [
    {
     "name": "stdout",
     "output_type": "stream",
     "text": [
      "Buying         0\n",
      "Maintenance    0\n",
      "Doors          0\n",
      "Seats          0\n",
      "Boot           0\n",
      "Safety         0\n",
      "Condition      0\n",
      "dtype: int64\n"
     ]
    }
   ],
   "source": [
    "print(cars.isna().sum())"
   ]
  },
  {
   "cell_type": "code",
   "execution_count": null,
   "id": "c838e409-9336-4a05-bf4c-184d369c1a81",
   "metadata": {},
   "outputs": [],
   "source": []
  }
 ],
 "metadata": {
  "kernelspec": {
   "display_name": "Python 3 (ipykernel)",
   "language": "python",
   "name": "python3"
  },
  "language_info": {
   "codemirror_mode": {
    "name": "ipython",
    "version": 3
   },
   "file_extension": ".py",
   "mimetype": "text/x-python",
   "name": "python",
   "nbconvert_exporter": "python",
   "pygments_lexer": "ipython3",
   "version": "3.11.7"
  }
 },
 "nbformat": 4,
 "nbformat_minor": 5
}
